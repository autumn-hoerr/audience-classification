{
 "cells": [
  {
   "cell_type": "code",
   "execution_count": 3,
   "metadata": {},
   "outputs": [
    {
     "name": "stdout",
     "output_type": "stream",
     "text": [
      "Existing Entries Count: 51\n",
      "Added 4 Entries\n"
     ]
    }
   ],
   "source": [
    "import requests\n",
    "import pandas as pd\n",
    "import os\n",
    "from bs4 import BeautifulSoup\n",
    "from urllib import parse\n",
    "\n",
    "cols = ['title', 'author', 'pubDate', 'permalink', 'guid', 'description', 'content']\n",
    "\n",
    "def init_archive():\n",
    "    df = pd.DataFrame(columns = cols)\n",
    "    os.makedirs(\"data\", exist_ok=True)\n",
    "    df.to_csv(\"data/channel-futures.csv\")\n",
    "\n",
    "def load_csv_archive():\n",
    "    return pd.read_csv(\"data/channel-futures.csv\")\n",
    "\n",
    "def save_csv_archive(df):\n",
    "    os.makedirs(\"data\", exist_ok=True)\n",
    "    df.to_csv(\"data/channel-futures.csv\", index=False)\n",
    "\n",
    "def get_source(url):\n",
    "    try:\n",
    "        r = requests.get(url)\n",
    "        return r\n",
    "    except Exception as e:\n",
    "        print(e)\n",
    "\n",
    "def get_feed(url, existing_df):\n",
    "    response = get_source(url)\n",
    "    df = pd.DataFrame(columns = cols)\n",
    "    with response as r:\n",
    "        soup = BeautifulSoup(r.content, features='xml')\n",
    "        items = soup.findAll('item')\n",
    "        for item in items:\n",
    "            title = item.find(\"title\").text\n",
    "            author = item.find(\"dc:creator\").text\n",
    "            pubDate = pd.Timestamp(item.find(\"pubDate\").text)\n",
    "            permalink = item.find(\"guid\").text\n",
    "            guid = parse.parse_qs(parse.urlparse(item.find(\"guid\").text).query)['p'][0]\n",
    "            description = item.find(\"description\").text\n",
    "            content = item.find(\"content:encoded\").text\n",
    "            if int(guid) not in existing_df['guid'].values:\n",
    "                row = pd.DataFrame([{ \"title\": title, \"author\": author, \"pubDate\": pubDate, \"permalink\": permalink, \"guid\": guid, \"description\": description, \"content\": content }])\n",
    "                df = pd.concat([df, row], ignore_index=True)\n",
    "            else:\n",
    "                continue\n",
    "\n",
    "    return df\n",
    "\n",
    "# init_archive() # needed for first run\n",
    "\n",
    "existing_df = load_csv_archive()\n",
    "existing_entries_count = existing_df.shape[0]\n",
    "print(f\"Existing Entries Count: {existing_entries_count}\")\n",
    "url = \"https://www.channelfutures.com/feed\"\n",
    "new_entry_count = 0\n",
    "df = get_feed(url, existing_df)\n",
    "\n",
    "if not df.empty:\n",
    "    new_entry_count = df.shape[0]\n",
    "    new_archive = pd.concat([existing_df, df], ignore_index=True)\n",
    "    save_csv_archive(new_archive)\n",
    "    \n",
    "print(f\"Added {new_entry_count} Entries\")"
   ]
  }
 ],
 "metadata": {
  "kernelspec": {
   "display_name": "ml",
   "language": "python",
   "name": "python3"
  },
  "language_info": {
   "codemirror_mode": {
    "name": "ipython",
    "version": 3
   },
   "file_extension": ".py",
   "mimetype": "text/x-python",
   "name": "python",
   "nbconvert_exporter": "python",
   "pygments_lexer": "ipython3",
   "version": "3.10.11"
  },
  "orig_nbformat": 4
 },
 "nbformat": 4,
 "nbformat_minor": 2
}
